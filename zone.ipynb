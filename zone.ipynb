{
 "cells": [
  {
   "cell_type": "code",
   "execution_count": null,
   "id": "875eda70",
   "metadata": {},
   "outputs": [],
   "source": [
    "from config import Config\n",
    "from models import create_llm \n",
    "from langchain.prompts import SystemMessagePromptTemplate, ChatPromptTemplate,PromptTemplate\n",
    "from langchain.output_parsers import PydanticOutputParser\n",
    "from langchain.chains import LLMChain\n",
    "from pydantic import BaseModel, Field\n",
    "\n",
    "llm = create_llm(Config.MODEL) "
   ]
  },
  {
   "cell_type": "code",
   "execution_count": 21,
   "id": "fd0521b3",
   "metadata": {},
   "outputs": [],
   "source": [
    "class OverpassQueryModel(BaseModel):\n",
    "    area_name: str = Field(..., description=\"The name of the area to be searched, e.g., 'France', 'Paris', etc.\")\n",
    "    admin_level: int = Field(..., description=\"The OSM administrative level to search for, e.g., 2 for countries, 4 for regions.\")\n",
    "    overpass_query: str = Field(..., description=\"A complete Overpass QL query for retrieving the requested administrative boundaries.\")\n",
    "\n",
    "\n"
   ]
  },
  {
   "cell_type": "code",
   "execution_count": null,
   "id": "f150ce45",
   "metadata": {},
   "outputs": [
    {
     "data": {
      "text/plain": [
       "{'query': 'show me departments of france',\n",
       " 'text': '{\"properties\": {\"area_name\": \"France\", \"admin_level\": 2, \"overpass_query\": \"relation[type=\\\\\"boundary\\\\\"](area[name=france] or name:en, area[name=ar,france] or name:es,france) in France[admin_level=2][boundary=administrative]; out body; >; out skel qt;\"}}'}"
      ]
     },
     "execution_count": 19,
     "metadata": {},
     "output_type": "execute_result"
    }
   ],
   "source": [
    "prompt_template = \"\"\"\n",
    "\n",
    "You are a geospatial data engineer specializing in OpenStreetMap (OSM) and the Overpass API.\n",
    "Your task is to generate a valid Overpass QL query that returns full polygon boundaries as relation elements for a given area name and admin level.\n",
    "\n",
    "The query must:\n",
    "\n",
    "    Look up the area using area[name=...] (and optionally fall back to name:en, name:ar, etc.)\n",
    "\n",
    "    Filter only relation elements with the specified admin_level and boundary=administrative\n",
    "\n",
    "    Output complete polygon geometry (not centroids or points)\n",
    "\n",
    "    Use proper Overpass syntax like out body; >; out skel qt; or out geom\n",
    "\n",
    "    Be formatted correctly for Overpass Turbo or any standard Overpass client\n",
    "\n",
    "Return only the complete working query as your output.\n",
    "\n",
    "{format_instructions}\n",
    "\n",
    "Only output the raw JSON object. Nothing else.\n",
    "\n",
    "User query: {query}\n",
    "\n",
    "\"\"\"\n",
    "\n",
    "parser = PydanticOutputParser(pydantic_object=OverpassQueryModel)\n",
    "\n",
    "prompt= SystemMessagePromptTemplate.from_template\n",
    "# prompt = PromptTemplate(\n",
    "\n",
    "#     template=prompt_template,\n",
    "\n",
    "#     input_variables=[\"query\"],\n",
    "\n",
    "#     partial_variables={\"format_instructions\": parser.get_format_instructions()}\n",
    "\n",
    "# )\n",
    "\n",
    "\n",
    "\n",
    "chain = LLMChain(llm= llm, prompt=prompt)\n",
    "\n",
    "query = \"show me departments of france\"\n",
    "\n",
    "result = chain.invoke({\"query\": query}) \n",
    "\n",
    "result"
   ]
  },
  {
   "cell_type": "code",
   "execution_count": 20,
   "id": "29b0c3c7",
   "metadata": {},
   "outputs": [
    {
     "ename": "OutputParserException",
     "evalue": "Failed to parse OverpassQueryModel from completion {\"properties\": {\"area_name\": \"France\", \"admin_level\": 2, \"overpass_query\": \"relation[type=\\\"boundary\\\"](area[name=france] or name:en, area[name=ar,france] or name:es,france) in France[admin_level=2][boundary=administrative]; out body; >; out skel qt;\"}}. Got: 3 validation errors for OverpassQueryModel\narea_name\n  Field required [type=missing, input_value={'properties': {'area_nam...body; >; out skel qt;'}}, input_type=dict]\n    For further information visit https://errors.pydantic.dev/2.11/v/missing\nadmin_level\n  Field required [type=missing, input_value={'properties': {'area_nam...body; >; out skel qt;'}}, input_type=dict]\n    For further information visit https://errors.pydantic.dev/2.11/v/missing\noverpass_query\n  Field required [type=missing, input_value={'properties': {'area_nam...body; >; out skel qt;'}}, input_type=dict]\n    For further information visit https://errors.pydantic.dev/2.11/v/missing\nFor troubleshooting, visit: https://python.langchain.com/docs/troubleshooting/errors/OUTPUT_PARSING_FAILURE ",
     "output_type": "error",
     "traceback": [
      "\u001b[31m---------------------------------------------------------------------------\u001b[39m",
      "\u001b[31mValidationError\u001b[39m                           Traceback (most recent call last)",
      "\u001b[36mFile \u001b[39m\u001b[32m~/Desktop/work/postgis/.venv/lib/python3.12/site-packages/langchain_core/output_parsers/pydantic.py:30\u001b[39m, in \u001b[36mPydanticOutputParser._parse_obj\u001b[39m\u001b[34m(self, obj)\u001b[39m\n\u001b[32m     29\u001b[39m \u001b[38;5;28;01mif\u001b[39;00m \u001b[38;5;28missubclass\u001b[39m(\u001b[38;5;28mself\u001b[39m.pydantic_object, pydantic.BaseModel):\n\u001b[32m---> \u001b[39m\u001b[32m30\u001b[39m     \u001b[38;5;28;01mreturn\u001b[39;00m \u001b[38;5;28;43mself\u001b[39;49m\u001b[43m.\u001b[49m\u001b[43mpydantic_object\u001b[49m\u001b[43m.\u001b[49m\u001b[43mmodel_validate\u001b[49m\u001b[43m(\u001b[49m\u001b[43mobj\u001b[49m\u001b[43m)\u001b[49m\n\u001b[32m     31\u001b[39m \u001b[38;5;28;01mif\u001b[39;00m \u001b[38;5;28missubclass\u001b[39m(\u001b[38;5;28mself\u001b[39m.pydantic_object, pydantic.v1.BaseModel):\n",
      "\u001b[36mFile \u001b[39m\u001b[32m~/Desktop/work/postgis/.venv/lib/python3.12/site-packages/pydantic/main.py:705\u001b[39m, in \u001b[36mBaseModel.model_validate\u001b[39m\u001b[34m(cls, obj, strict, from_attributes, context, by_alias, by_name)\u001b[39m\n\u001b[32m    700\u001b[39m     \u001b[38;5;28;01mraise\u001b[39;00m PydanticUserError(\n\u001b[32m    701\u001b[39m         \u001b[33m'\u001b[39m\u001b[33mAt least one of `by_alias` or `by_name` must be set to True.\u001b[39m\u001b[33m'\u001b[39m,\n\u001b[32m    702\u001b[39m         code=\u001b[33m'\u001b[39m\u001b[33mvalidate-by-alias-and-name-false\u001b[39m\u001b[33m'\u001b[39m,\n\u001b[32m    703\u001b[39m     )\n\u001b[32m--> \u001b[39m\u001b[32m705\u001b[39m \u001b[38;5;28;01mreturn\u001b[39;00m \u001b[38;5;28;43mcls\u001b[39;49m\u001b[43m.\u001b[49m\u001b[43m__pydantic_validator__\u001b[49m\u001b[43m.\u001b[49m\u001b[43mvalidate_python\u001b[49m\u001b[43m(\u001b[49m\n\u001b[32m    706\u001b[39m \u001b[43m    \u001b[49m\u001b[43mobj\u001b[49m\u001b[43m,\u001b[49m\u001b[43m \u001b[49m\u001b[43mstrict\u001b[49m\u001b[43m=\u001b[49m\u001b[43mstrict\u001b[49m\u001b[43m,\u001b[49m\u001b[43m \u001b[49m\u001b[43mfrom_attributes\u001b[49m\u001b[43m=\u001b[49m\u001b[43mfrom_attributes\u001b[49m\u001b[43m,\u001b[49m\u001b[43m \u001b[49m\u001b[43mcontext\u001b[49m\u001b[43m=\u001b[49m\u001b[43mcontext\u001b[49m\u001b[43m,\u001b[49m\u001b[43m \u001b[49m\u001b[43mby_alias\u001b[49m\u001b[43m=\u001b[49m\u001b[43mby_alias\u001b[49m\u001b[43m,\u001b[49m\u001b[43m \u001b[49m\u001b[43mby_name\u001b[49m\u001b[43m=\u001b[49m\u001b[43mby_name\u001b[49m\n\u001b[32m    707\u001b[39m \u001b[43m\u001b[49m\u001b[43m)\u001b[49m\n",
      "\u001b[31mValidationError\u001b[39m: 3 validation errors for OverpassQueryModel\narea_name\n  Field required [type=missing, input_value={'properties': {'area_nam...body; >; out skel qt;'}}, input_type=dict]\n    For further information visit https://errors.pydantic.dev/2.11/v/missing\nadmin_level\n  Field required [type=missing, input_value={'properties': {'area_nam...body; >; out skel qt;'}}, input_type=dict]\n    For further information visit https://errors.pydantic.dev/2.11/v/missing\noverpass_query\n  Field required [type=missing, input_value={'properties': {'area_nam...body; >; out skel qt;'}}, input_type=dict]\n    For further information visit https://errors.pydantic.dev/2.11/v/missing",
      "\nThe above exception was the direct cause of the following exception:\n",
      "\u001b[31mOutputParserException\u001b[39m                     Traceback (most recent call last)",
      "\u001b[36mCell\u001b[39m\u001b[36m \u001b[39m\u001b[32mIn[20]\u001b[39m\u001b[32m, line 1\u001b[39m\n\u001b[32m----> \u001b[39m\u001b[32m1\u001b[39m structured_output = \u001b[43mparser\u001b[49m\u001b[43m.\u001b[49m\u001b[43mparse\u001b[49m\u001b[43m(\u001b[49m\u001b[43mresult\u001b[49m\u001b[43m[\u001b[49m\u001b[33;43m'\u001b[39;49m\u001b[33;43mtext\u001b[39;49m\u001b[33;43m'\u001b[39;49m\u001b[43m]\u001b[49m\u001b[43m)\u001b[49m\n\u001b[32m      2\u001b[39m \u001b[38;5;28mprint\u001b[39m(structured_output.overpass_query)\n",
      "\u001b[36mFile \u001b[39m\u001b[32m~/Desktop/work/postgis/.venv/lib/python3.12/site-packages/langchain_core/output_parsers/pydantic.py:84\u001b[39m, in \u001b[36mPydanticOutputParser.parse\u001b[39m\u001b[34m(self, text)\u001b[39m\n\u001b[32m     75\u001b[39m \u001b[38;5;28;01mdef\u001b[39;00m\u001b[38;5;250m \u001b[39m\u001b[34mparse\u001b[39m(\u001b[38;5;28mself\u001b[39m, text: \u001b[38;5;28mstr\u001b[39m) -> TBaseModel:\n\u001b[32m     76\u001b[39m \u001b[38;5;250m    \u001b[39m\u001b[33;03m\"\"\"Parse the output of an LLM call to a pydantic object.\u001b[39;00m\n\u001b[32m     77\u001b[39m \n\u001b[32m     78\u001b[39m \u001b[33;03m    Args:\u001b[39;00m\n\u001b[32m   (...)\u001b[39m\u001b[32m     82\u001b[39m \u001b[33;03m        The parsed pydantic object.\u001b[39;00m\n\u001b[32m     83\u001b[39m \u001b[33;03m    \"\"\"\u001b[39;00m\n\u001b[32m---> \u001b[39m\u001b[32m84\u001b[39m     \u001b[38;5;28;01mreturn\u001b[39;00m \u001b[38;5;28;43msuper\u001b[39;49m\u001b[43m(\u001b[49m\u001b[43m)\u001b[49m\u001b[43m.\u001b[49m\u001b[43mparse\u001b[49m\u001b[43m(\u001b[49m\u001b[43mtext\u001b[49m\u001b[43m)\u001b[49m\n",
      "\u001b[36mFile \u001b[39m\u001b[32m~/Desktop/work/postgis/.venv/lib/python3.12/site-packages/langchain_core/output_parsers/json.py:102\u001b[39m, in \u001b[36mJsonOutputParser.parse\u001b[39m\u001b[34m(self, text)\u001b[39m\n\u001b[32m     93\u001b[39m \u001b[38;5;28;01mdef\u001b[39;00m\u001b[38;5;250m \u001b[39m\u001b[34mparse\u001b[39m(\u001b[38;5;28mself\u001b[39m, text: \u001b[38;5;28mstr\u001b[39m) -> Any:\n\u001b[32m     94\u001b[39m \u001b[38;5;250m    \u001b[39m\u001b[33;03m\"\"\"Parse the output of an LLM call to a JSON object.\u001b[39;00m\n\u001b[32m     95\u001b[39m \n\u001b[32m     96\u001b[39m \u001b[33;03m    Args:\u001b[39;00m\n\u001b[32m   (...)\u001b[39m\u001b[32m    100\u001b[39m \u001b[33;03m        The parsed JSON object.\u001b[39;00m\n\u001b[32m    101\u001b[39m \u001b[33;03m    \"\"\"\u001b[39;00m\n\u001b[32m--> \u001b[39m\u001b[32m102\u001b[39m     \u001b[38;5;28;01mreturn\u001b[39;00m \u001b[38;5;28;43mself\u001b[39;49m\u001b[43m.\u001b[49m\u001b[43mparse_result\u001b[49m\u001b[43m(\u001b[49m\u001b[43m[\u001b[49m\u001b[43mGeneration\u001b[49m\u001b[43m(\u001b[49m\u001b[43mtext\u001b[49m\u001b[43m=\u001b[49m\u001b[43mtext\u001b[49m\u001b[43m)\u001b[49m\u001b[43m]\u001b[49m\u001b[43m)\u001b[49m\n",
      "\u001b[36mFile \u001b[39m\u001b[32m~/Desktop/work/postgis/.venv/lib/python3.12/site-packages/langchain_core/output_parsers/pydantic.py:69\u001b[39m, in \u001b[36mPydanticOutputParser.parse_result\u001b[39m\u001b[34m(self, result, partial)\u001b[39m\n\u001b[32m     67\u001b[39m \u001b[38;5;28;01mtry\u001b[39;00m:\n\u001b[32m     68\u001b[39m     json_object = \u001b[38;5;28msuper\u001b[39m().parse_result(result)\n\u001b[32m---> \u001b[39m\u001b[32m69\u001b[39m     \u001b[38;5;28;01mreturn\u001b[39;00m \u001b[38;5;28;43mself\u001b[39;49m\u001b[43m.\u001b[49m\u001b[43m_parse_obj\u001b[49m\u001b[43m(\u001b[49m\u001b[43mjson_object\u001b[49m\u001b[43m)\u001b[49m\n\u001b[32m     70\u001b[39m \u001b[38;5;28;01mexcept\u001b[39;00m OutputParserException:\n\u001b[32m     71\u001b[39m     \u001b[38;5;28;01mif\u001b[39;00m partial:\n",
      "\u001b[36mFile \u001b[39m\u001b[32m~/Desktop/work/postgis/.venv/lib/python3.12/site-packages/langchain_core/output_parsers/pydantic.py:37\u001b[39m, in \u001b[36mPydanticOutputParser._parse_obj\u001b[39m\u001b[34m(self, obj)\u001b[39m\n\u001b[32m     35\u001b[39m         \u001b[38;5;28;01mraise\u001b[39;00m OutputParserException(msg)\n\u001b[32m     36\u001b[39m     \u001b[38;5;28;01mexcept\u001b[39;00m (pydantic.ValidationError, pydantic.v1.ValidationError) \u001b[38;5;28;01mas\u001b[39;00m e:\n\u001b[32m---> \u001b[39m\u001b[32m37\u001b[39m         \u001b[38;5;28;01mraise\u001b[39;00m \u001b[38;5;28mself\u001b[39m._parser_exception(e, obj) \u001b[38;5;28;01mfrom\u001b[39;00m\u001b[38;5;250m \u001b[39m\u001b[34;01me\u001b[39;00m\n\u001b[32m     38\u001b[39m \u001b[38;5;28;01melse\u001b[39;00m:  \u001b[38;5;66;03m# pydantic v1\u001b[39;00m\n\u001b[32m     39\u001b[39m     \u001b[38;5;28;01mtry\u001b[39;00m:\n",
      "\u001b[31mOutputParserException\u001b[39m: Failed to parse OverpassQueryModel from completion {\"properties\": {\"area_name\": \"France\", \"admin_level\": 2, \"overpass_query\": \"relation[type=\\\"boundary\\\"](area[name=france] or name:en, area[name=ar,france] or name:es,france) in France[admin_level=2][boundary=administrative]; out body; >; out skel qt;\"}}. Got: 3 validation errors for OverpassQueryModel\narea_name\n  Field required [type=missing, input_value={'properties': {'area_nam...body; >; out skel qt;'}}, input_type=dict]\n    For further information visit https://errors.pydantic.dev/2.11/v/missing\nadmin_level\n  Field required [type=missing, input_value={'properties': {'area_nam...body; >; out skel qt;'}}, input_type=dict]\n    For further information visit https://errors.pydantic.dev/2.11/v/missing\noverpass_query\n  Field required [type=missing, input_value={'properties': {'area_nam...body; >; out skel qt;'}}, input_type=dict]\n    For further information visit https://errors.pydantic.dev/2.11/v/missing\nFor troubleshooting, visit: https://python.langchain.com/docs/troubleshooting/errors/OUTPUT_PARSING_FAILURE "
     ]
    }
   ],
   "source": [
    "structured_output = parser.parse(result['text'])\n",
    "print(structured_output.overpass_query)\n"
   ]
  },
  {
   "cell_type": "code",
   "execution_count": 17,
   "id": "7c92ed71",
   "metadata": {},
   "outputs": [
    {
     "ename": "NameError",
     "evalue": "name 'structured_output' is not defined",
     "output_type": "error",
     "traceback": [
      "\u001b[31m---------------------------------------------------------------------------\u001b[39m",
      "\u001b[31mNameError\u001b[39m                                 Traceback (most recent call last)",
      "\u001b[36mCell\u001b[39m\u001b[36m \u001b[39m\u001b[32mIn[17]\u001b[39m\u001b[32m, line 6\u001b[39m\n\u001b[32m      3\u001b[39m OVERPASS_URL = \u001b[33m\"\u001b[39m\u001b[33mhttps://overpass-api.de/api/interpreter\u001b[39m\u001b[33m\"\u001b[39m\n\u001b[32m      5\u001b[39m \u001b[38;5;66;03m# Example Overpass QL query to fetch admin_level=2 boundaries with ISO country codes\u001b[39;00m\n\u001b[32m----> \u001b[39m\u001b[32m6\u001b[39m query = \u001b[43mstructured_output\u001b[49m.overpass_query\n\u001b[32m      8\u001b[39m \u001b[38;5;28;01mdef\u001b[39;00m\u001b[38;5;250m \u001b[39m\u001b[34mrun_overpass_query\u001b[39m(query: \u001b[38;5;28mstr\u001b[39m):\n\u001b[32m      9\u001b[39m     response = requests.post(OVERPASS_URL, data={\u001b[33m\"\u001b[39m\u001b[33mdata\u001b[39m\u001b[33m\"\u001b[39m: query})\n",
      "\u001b[31mNameError\u001b[39m: name 'structured_output' is not defined"
     ]
    }
   ],
   "source": [
    "import requests\n",
    "\n",
    "OVERPASS_URL = \"https://overpass-api.de/api/interpreter\"\n",
    "\n",
    "# Example Overpass QL query to fetch admin_level=2 boundaries with ISO country codes\n",
    "query = structured_output.overpass_query\n",
    "\n",
    "def run_overpass_query(query: str):\n",
    "    response = requests.post(OVERPASS_URL, data={\"data\": query})\n",
    "    \n",
    "    if response.status_code == 200:\n",
    "        return response.json()  # parsed JSON\n",
    "    else:\n",
    "        raise Exception(f\"Overpass query failed with status {response.status_code}:\\n{response.text}\")\n",
    "try:\n",
    "    result = run_overpass_query(query)\n",
    "    print(f\"Returned {len(result.get('elements', []))} elements.\")\n",
    "    # Optional: Save to file\n",
    "    # import json\n",
    "    # with open(\"overpass_output.json\", \"w\") as f:\n",
    "    #     json.dump(result, f, indent=2)\n",
    "except Exception as e:\n",
    "    print(\"Error:\", e)    \n"
   ]
  }
 ],
 "metadata": {
  "kernelspec": {
   "display_name": ".venv",
   "language": "python",
   "name": "python3"
  },
  "language_info": {
   "codemirror_mode": {
    "name": "ipython",
    "version": 3
   },
   "file_extension": ".py",
   "mimetype": "text/x-python",
   "name": "python",
   "nbconvert_exporter": "python",
   "pygments_lexer": "ipython3",
   "version": "3.12.7"
  }
 },
 "nbformat": 4,
 "nbformat_minor": 5
}
